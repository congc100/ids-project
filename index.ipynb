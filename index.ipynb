{
 "cells": [
  {
   "cell_type": "code",
   "execution_count": 1,
   "metadata": {},
   "outputs": [],
   "source": [
    "!pip install transformers pandas\n",
    "!pip install pytorch torchvision torchaudio pytorch-cuda=11.8 -c pytorch -c nvidia"
   ]
  },
  {
   "cell_type": "code",
   "execution_count": null,
   "metadata": {},
   "outputs": [],
   "source": [
    "import pandas as pd\n",
    "from transformers import pipeline\n",
    "\n",
    "df = pd.read_csv('data/Design-Museum-Most-Relevant-360.csv')\n",
    "\n",
    "# https://huggingface.co/cardiffnlp/twitter-xlm-roberta-base-sentiment\n",
    "model_path = 'cardiffnlp/twitter-xlm-roberta-base-sentiment'\n",
    "sentiment_task = pipeline('sentiment-analysis', model=model_path, tokenizer=model_path)\n",
    "\n",
    "reviews = df['review_text'].tolist()\n",
    "results = sentiment_task(reviews)\n",
    "\n",
    "df['sentiment'] = [result['label'] for result in results]\n",
    "df['score'] = [result['score'] for result in results]\n",
    "\n",
    "print(df[['review_text', 'sentiment', 'score']].head())"
   ]
  }
 ],
 "metadata": {
  "kernelspec": {
   "display_name": "Python 3",
   "language": "python",
   "name": "python3"
  },
  "language_info": {
   "codemirror_mode": {
    "name": "ipython",
    "version": 3
   },
   "file_extension": ".py",
   "mimetype": "text/x-python",
   "name": "python",
   "nbconvert_exporter": "python",
   "pygments_lexer": "ipython3",
   "version": "3.11.10"
  }
 },
 "nbformat": 4,
 "nbformat_minor": 2
}
